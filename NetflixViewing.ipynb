{
 "cells": [
  {
   "cell_type": "markdown",
   "id": "42720916-819a-4379-9638-30cbed77d983",
   "metadata": {},
   "source": [
    "#### My Netflix Data"
   ]
  },
  {
   "cell_type": "code",
   "execution_count": 1,
   "id": "20e6af90-5657-4e71-ba57-41e1cafac228",
   "metadata": {},
   "outputs": [],
   "source": [
    "# Loading viewing activity csv\n",
    "import pandas as pd\n",
    "df = pd.read_csv('ViewingActivity.csv')"
   ]
  },
  {
   "cell_type": "code",
   "execution_count": 2,
   "id": "8af3b326-ce37-4eac-87b3-828088f6e8ed",
   "metadata": {},
   "outputs": [
    {
     "data": {
      "text/plain": [
       "(440, 10)"
      ]
     },
     "execution_count": 2,
     "metadata": {},
     "output_type": "execute_result"
    }
   ],
   "source": [
    "# view rows and columns\n",
    "df.shape"
   ]
  },
  {
   "cell_type": "code",
   "execution_count": 3,
   "id": "bcf29012-bf70-432f-8855-32f2448754f2",
   "metadata": {},
   "outputs": [
    {
     "data": {
      "text/html": [
       "<div>\n",
       "<style scoped>\n",
       "    .dataframe tbody tr th:only-of-type {\n",
       "        vertical-align: middle;\n",
       "    }\n",
       "\n",
       "    .dataframe tbody tr th {\n",
       "        vertical-align: top;\n",
       "    }\n",
       "\n",
       "    .dataframe thead th {\n",
       "        text-align: right;\n",
       "    }\n",
       "</style>\n",
       "<table border=\"1\" class=\"dataframe\">\n",
       "  <thead>\n",
       "    <tr style=\"text-align: right;\">\n",
       "      <th></th>\n",
       "      <th>Profile Name</th>\n",
       "      <th>Start Time</th>\n",
       "      <th>Duration</th>\n",
       "      <th>Attributes</th>\n",
       "      <th>Title</th>\n",
       "      <th>Supplemental Video Type</th>\n",
       "      <th>Device Type</th>\n",
       "      <th>Bookmark</th>\n",
       "      <th>Latest Bookmark</th>\n",
       "      <th>Country</th>\n",
       "    </tr>\n",
       "  </thead>\n",
       "  <tbody>\n",
       "    <tr>\n",
       "      <th>0</th>\n",
       "      <td>Kgabo</td>\n",
       "      <td>2023-01-08 19:04:16</td>\n",
       "      <td>00:01:47</td>\n",
       "      <td>NaN</td>\n",
       "      <td>Norbit</td>\n",
       "      <td>NaN</td>\n",
       "      <td>Netflix Windows App - Cadmium Windows Mobile</td>\n",
       "      <td>00:01:47</td>\n",
       "      <td>00:01:47</td>\n",
       "      <td>ZA (South Africa)</td>\n",
       "    </tr>\n",
       "    <tr>\n",
       "      <th>1</th>\n",
       "      <td>Kgabo</td>\n",
       "      <td>2023-01-08 18:57:03</td>\n",
       "      <td>00:00:05</td>\n",
       "      <td>Autoplayed: user action: None;</td>\n",
       "      <td>Season 1 Genre Specific Moment Clip: Wednesday</td>\n",
       "      <td>HOOK</td>\n",
       "      <td>Netflix Windows App - Cadmium Windows Mobile</td>\n",
       "      <td>00:00:05</td>\n",
       "      <td>00:00:05</td>\n",
       "      <td>ZA (South Africa)</td>\n",
       "    </tr>\n",
       "    <tr>\n",
       "      <th>2</th>\n",
       "      <td>Kgabo</td>\n",
       "      <td>2023-01-08 18:48:13</td>\n",
       "      <td>00:00:07</td>\n",
       "      <td>Autoplayed: user action: None;</td>\n",
       "      <td>Season 2 Genre Specific Moment Clip: Ginny &amp; G...</td>\n",
       "      <td>HOOK</td>\n",
       "      <td>Netflix Windows App - Cadmium Windows Mobile</td>\n",
       "      <td>00:00:07</td>\n",
       "      <td>00:00:07</td>\n",
       "      <td>ZA (South Africa)</td>\n",
       "    </tr>\n",
       "    <tr>\n",
       "      <th>3</th>\n",
       "      <td>Kgabo</td>\n",
       "      <td>2023-01-08 18:45:11</td>\n",
       "      <td>00:00:15</td>\n",
       "      <td>Autoplayed: user action: None;</td>\n",
       "      <td>Season 2 Genre Specific Moment Clip: Ginny &amp; G...</td>\n",
       "      <td>HOOK</td>\n",
       "      <td>Netflix Windows App - Cadmium Windows Mobile</td>\n",
       "      <td>00:00:15</td>\n",
       "      <td>Not latest view</td>\n",
       "      <td>ZA (South Africa)</td>\n",
       "    </tr>\n",
       "    <tr>\n",
       "      <th>4</th>\n",
       "      <td>Kids</td>\n",
       "      <td>2023-03-17 05:06:07</td>\n",
       "      <td>00:00:16</td>\n",
       "      <td>NaN</td>\n",
       "      <td>CoComelon: Season 7: It's Cody Time (Episode 1)</td>\n",
       "      <td>NaN</td>\n",
       "      <td>DefaultWidevineAndroidPhone</td>\n",
       "      <td>00:00:15</td>\n",
       "      <td>00:00:15</td>\n",
       "      <td>ZA (South Africa)</td>\n",
       "    </tr>\n",
       "  </tbody>\n",
       "</table>\n",
       "</div>"
      ],
      "text/plain": [
       "  Profile Name           Start Time  Duration  \\\n",
       "0        Kgabo  2023-01-08 19:04:16  00:01:47   \n",
       "1        Kgabo  2023-01-08 18:57:03  00:00:05   \n",
       "2        Kgabo  2023-01-08 18:48:13  00:00:07   \n",
       "3        Kgabo  2023-01-08 18:45:11  00:00:15   \n",
       "4         Kids  2023-03-17 05:06:07  00:00:16   \n",
       "\n",
       "                        Attributes  \\\n",
       "0                              NaN   \n",
       "1  Autoplayed: user action: None;    \n",
       "2  Autoplayed: user action: None;    \n",
       "3  Autoplayed: user action: None;    \n",
       "4                              NaN   \n",
       "\n",
       "                                               Title Supplemental Video Type  \\\n",
       "0                                             Norbit                     NaN   \n",
       "1     Season 1 Genre Specific Moment Clip: Wednesday                    HOOK   \n",
       "2  Season 2 Genre Specific Moment Clip: Ginny & G...                    HOOK   \n",
       "3  Season 2 Genre Specific Moment Clip: Ginny & G...                    HOOK   \n",
       "4    CoComelon: Season 7: It's Cody Time (Episode 1)                     NaN   \n",
       "\n",
       "                                    Device Type  Bookmark  Latest Bookmark  \\\n",
       "0  Netflix Windows App - Cadmium Windows Mobile  00:01:47         00:01:47   \n",
       "1  Netflix Windows App - Cadmium Windows Mobile  00:00:05         00:00:05   \n",
       "2  Netflix Windows App - Cadmium Windows Mobile  00:00:07         00:00:07   \n",
       "3  Netflix Windows App - Cadmium Windows Mobile  00:00:15  Not latest view   \n",
       "4                   DefaultWidevineAndroidPhone  00:00:15         00:00:15   \n",
       "\n",
       "             Country  \n",
       "0  ZA (South Africa)  \n",
       "1  ZA (South Africa)  \n",
       "2  ZA (South Africa)  \n",
       "3  ZA (South Africa)  \n",
       "4  ZA (South Africa)  "
      ]
     },
     "execution_count": 3,
     "metadata": {},
     "output_type": "execute_result"
    }
   ],
   "source": [
    "df.head()"
   ]
  },
  {
   "cell_type": "markdown",
   "id": "2bbe529c-7395-49ab-ac97-c7c883fd9147",
   "metadata": {},
   "source": [
    "#### There are 440 rows of data structured into 10 columns\n",
    "\n",
    "#### ‘Profile Name’ — Multiple persons/profiles are sharing the Netflix account\n",
    "\n",
    "#### ‘Device Type’ — Same profiles using Netflix with different devices & browsers\n",
    "\n",
    "#### ‘Title’ — For series, the title contains the name of the series, but also the season and episode\n",
    "\n",
    "#### ‘Start Time’ & ‘Duration’ — We know when & how long someone watched something"
   ]
  },
  {
   "cell_type": "code",
   "execution_count": 4,
   "id": "93d5c9a8-9db4-4d6d-af57-9750154ee480",
   "metadata": {},
   "outputs": [
    {
     "data": {
      "text/plain": [
       "array(['Kgabo', 'Kids', 'Kwenadi', 'Mma '], dtype=object)"
      ]
     },
     "execution_count": 4,
     "metadata": {},
     "output_type": "execute_result"
    }
   ],
   "source": [
    "# Looking at the \"profile name\" column\n",
    "df[\"Profile Name\"].unique()"
   ]
  },
  {
   "cell_type": "markdown",
   "id": "14f36984-2984-453f-926c-3ed0ca07f47a",
   "metadata": {},
   "source": [
    "## There are fur profiles that are using this netflix account\n",
    "\n",
    "#### Kwenadi\n",
    "\n",
    "#### Kgabo\n",
    "\n",
    "#### Mma\n",
    "\n",
    "#### Kids"
   ]
  },
  {
   "cell_type": "code",
   "execution_count": 5,
   "id": "f38813a3-b991-4691-9e3b-9e62c55455e5",
   "metadata": {},
   "outputs": [
    {
     "data": {
      "text/plain": [
       "array(['Netflix Windows App - Cadmium Windows Mobile',\n",
       "       'DefaultWidevineAndroidPhone',\n",
       "       'Android DefaultWidevineL3Phone Android Phone',\n",
       "       'Chrome PC (Cadmium)'], dtype=object)"
      ]
     },
     "execution_count": 5,
     "metadata": {},
     "output_type": "execute_result"
    }
   ],
   "source": [
    "# Looking at the \"Device Type\" column\n",
    "df[\"Device Type\"].unique()"
   ]
  },
  {
   "cell_type": "markdown",
   "id": "f04e9d84-68cd-4be6-be31-92895a90d799",
   "metadata": {},
   "source": [
    "###### Different devices & browsers are used to watch Netflix"
   ]
  },
  {
   "cell_type": "markdown",
   "id": "21df33e0-4c9b-4672-b828-3f710a718464",
   "metadata": {},
   "source": [
    "##### After having a first impression of the data, the most important topic is: What questions do we want to answer?\n",
    "\n",
    "##### Which Profile watched the most (time)?\n",
    "##### Which Profile has the most watching activities/interactions?\n",
    "##### What is the average watching time (per Profile)?\n",
    "##### What devices are used by which Profile? And which device is used the most?\n",
    "##### What was the most popular/watched title?"
   ]
  },
  {
   "cell_type": "markdown",
   "id": "b158fd03-85eb-4476-a48c-b5309d861cfc",
   "metadata": {},
   "source": [
    "### Transform the data\n",
    "#### Before we can work with the data in more detail, we need to understand the underlying data types."
   ]
  },
  {
   "cell_type": "code",
   "execution_count": 6,
   "id": "060fb85b-ad11-4087-9a35-bf91420a8f15",
   "metadata": {},
   "outputs": [
    {
     "data": {
      "text/plain": [
       "Profile Name               object\n",
       "Start Time                 object\n",
       "Duration                   object\n",
       "Attributes                 object\n",
       "Title                      object\n",
       "Supplemental Video Type    object\n",
       "Device Type                object\n",
       "Bookmark                   object\n",
       "Latest Bookmark            object\n",
       "Country                    object\n",
       "dtype: object"
      ]
     },
     "execution_count": 6,
     "metadata": {},
     "output_type": "execute_result"
    }
   ],
   "source": [
    "df.dtypes"
   ]
  },
  {
   "cell_type": "markdown",
   "id": "c8097456-224e-4972-8e11-de64f1df9e58",
   "metadata": {},
   "source": [
    "#### We can see that all columns store the data in the object data type. Especially if we want to work with times, dates & durations (e.g. to understand overall viewing times) we need to transform it"
   ]
  },
  {
   "cell_type": "code",
   "execution_count": 7,
   "id": "9e1e96d6-f6f7-46ee-9599-edcdd3548866",
   "metadata": {},
   "outputs": [
    {
     "data": {
      "text/plain": [
       "Profile Name                            object\n",
       "Start Time                 datetime64[ns, UTC]\n",
       "Duration                       timedelta64[ns]\n",
       "Attributes                              object\n",
       "Title                                   object\n",
       "Supplemental Video Type                 object\n",
       "Device Type                             object\n",
       "Bookmark                                object\n",
       "Latest Bookmark                         object\n",
       "Country                                 object\n",
       "dtype: object"
      ]
     },
     "execution_count": 7,
     "metadata": {},
     "output_type": "execute_result"
    }
   ],
   "source": [
    "df['Start Time'] = pd.to_datetime(df['Start Time'], utc=True)\n",
    "df['Duration'] = pd.to_timedelta(df['Duration'])\n",
    "df.dtypes"
   ]
  },
  {
   "cell_type": "markdown",
   "id": "c11db12f-c575-4a54-8433-28d53603faa1",
   "metadata": {},
   "source": [
    "### Visualize the data\n",
    "#### to answer our questions"
   ]
  },
  {
   "cell_type": "markdown",
   "id": "67ae7635-b016-473c-8575-78de19abf131",
   "metadata": {},
   "source": [
    "#### 1. Which Profile has the most watching activities/interactions?"
   ]
  },
  {
   "cell_type": "code",
   "execution_count": 8,
   "id": "26f9074e-370e-414c-8bf4-09d5ca8927f0",
   "metadata": {},
   "outputs": [
    {
     "data": {
      "text/plain": [
       "Kwenadi    433\n",
       "Kgabo        4\n",
       "Mma          2\n",
       "Kids         1\n",
       "Name: Profile Name, dtype: int64"
      ]
     },
     "execution_count": 8,
     "metadata": {},
     "output_type": "execute_result"
    }
   ],
   "source": [
    "df['Profile Name'].value_counts()"
   ]
  },
  {
   "cell_type": "markdown",
   "id": "a6507cf4-ff23-4127-9d90-ca33770c022a",
   "metadata": {},
   "source": [
    "###### Kwenadi has the most viewing interactions, and all the other profiles seem to be inactive "
   ]
  },
  {
   "cell_type": "code",
   "execution_count": 9,
   "id": "49e90eef-fe69-45be-bafc-5dd0cac5f838",
   "metadata": {},
   "outputs": [
    {
     "data": {
      "image/png": "[encoded data removed]",
      "text/plain": [
       "<Figure size 640x480 with 1 Axes>"
      ]
     },
     "metadata": {},
     "output_type": "display_data"
    }
   ],
   "source": [
    "%matplotlib inline\n",
    "import matplotlib\n",
    "import matplotlib.pyplot as plt\n",
    "df['Profile Name'].value_counts().plot(kind='bar')\n",
    "plt.show()"
   ]
  },
  {
   "cell_type": "markdown",
   "id": "d67581dd-144d-4c36-ad6c-62e5270d6f4d",
   "metadata": {},
   "source": [
    "#### 2.Which Profile watched the most (time)?"
   ]
  },
  {
   "cell_type": "code",
   "execution_count": 10,
   "id": "00176795-30ea-4c91-95da-922440e116f3",
   "metadata": {},
   "outputs": [
    {
     "data": {
      "text/plain": [
       "Timedelta('7 days 18:35:34')"
      ]
     },
     "execution_count": 10,
     "metadata": {},
     "output_type": "execute_result"
    }
   ],
   "source": [
    "df['Duration'].sum()"
   ]
  },
  {
   "cell_type": "code",
   "execution_count": 11,
   "id": "9dcd211f-38f0-4939-a0ad-027f6d99d69d",
   "metadata": {},
   "outputs": [
    {
     "data": {
      "text/html": [
       "<div>\n",
       "<style scoped>\n",
       "    .dataframe tbody tr th:only-of-type {\n",
       "        vertical-align: middle;\n",
       "    }\n",
       "\n",
       "    .dataframe tbody tr th {\n",
       "        vertical-align: top;\n",
       "    }\n",
       "\n",
       "    .dataframe thead th {\n",
       "        text-align: right;\n",
       "    }\n",
       "</style>\n",
       "<table border=\"1\" class=\"dataframe\">\n",
       "  <thead>\n",
       "    <tr style=\"text-align: right;\">\n",
       "      <th></th>\n",
       "      <th>Profile Name</th>\n",
       "      <th>Start Time</th>\n",
       "      <th>Duration</th>\n",
       "      <th>Attributes</th>\n",
       "      <th>Title</th>\n",
       "      <th>Supplemental Video Type</th>\n",
       "      <th>Device Type</th>\n",
       "      <th>Bookmark</th>\n",
       "      <th>Latest Bookmark</th>\n",
       "      <th>Country</th>\n",
       "    </tr>\n",
       "  </thead>\n",
       "  <tbody>\n",
       "    <tr>\n",
       "      <th>437</th>\n",
       "      <td>Kwenadi</td>\n",
       "      <td>2022-05-07 16:52:38+00:00</td>\n",
       "      <td>0 days 00:00:11</td>\n",
       "      <td>Autoplayed: user action: None;</td>\n",
       "      <td>Teaser: The Takedown</td>\n",
       "      <td>TEASER_TRAILER</td>\n",
       "      <td>Netflix Windows App - Cadmium Windows Mobile</td>\n",
       "      <td>00:00:11</td>\n",
       "      <td>Not latest view</td>\n",
       "      <td>ZA (South Africa)</td>\n",
       "    </tr>\n",
       "    <tr>\n",
       "      <th>436</th>\n",
       "      <td>Kwenadi</td>\n",
       "      <td>2022-05-07 16:55:26+00:00</td>\n",
       "      <td>0 days 01:08:43</td>\n",
       "      <td>NaN</td>\n",
       "      <td>Dave Chappelle: The Closer</td>\n",
       "      <td>NaN</td>\n",
       "      <td>Netflix Windows App - Cadmium Windows Mobile</td>\n",
       "      <td>01:10:08</td>\n",
       "      <td>Not latest view</td>\n",
       "      <td>ZA (South Africa)</td>\n",
       "    </tr>\n",
       "    <tr>\n",
       "      <th>435</th>\n",
       "      <td>Kwenadi</td>\n",
       "      <td>2022-05-07 18:05:10+00:00</td>\n",
       "      <td>0 days 01:03:54</td>\n",
       "      <td>NaN</td>\n",
       "      <td>Dave Chappelle: Collection: The Age of Spin: D...</td>\n",
       "      <td>NaN</td>\n",
       "      <td>Netflix Windows App - Cadmium Windows Mobile</td>\n",
       "      <td>01:05:24</td>\n",
       "      <td>Not latest view</td>\n",
       "      <td>ZA (South Africa)</td>\n",
       "    </tr>\n",
       "    <tr>\n",
       "      <th>434</th>\n",
       "      <td>Kwenadi</td>\n",
       "      <td>2022-05-07 19:11:16+00:00</td>\n",
       "      <td>0 days 01:04:57</td>\n",
       "      <td>NaN</td>\n",
       "      <td>Dave Chappelle: Collection: Deep in the Heart ...</td>\n",
       "      <td>NaN</td>\n",
       "      <td>Netflix Windows App - Cadmium Windows Mobile</td>\n",
       "      <td>01:04:57</td>\n",
       "      <td>01:04:57</td>\n",
       "      <td>ZA (South Africa)</td>\n",
       "    </tr>\n",
       "    <tr>\n",
       "      <th>433</th>\n",
       "      <td>Kwenadi</td>\n",
       "      <td>2022-05-07 20:22:46+00:00</td>\n",
       "      <td>0 days 01:25:42</td>\n",
       "      <td>NaN</td>\n",
       "      <td>The Babysitter</td>\n",
       "      <td>NaN</td>\n",
       "      <td>Netflix Windows App - Cadmium Windows Mobile</td>\n",
       "      <td>01:25:43</td>\n",
       "      <td>01:25:43</td>\n",
       "      <td>ZA (South Africa)</td>\n",
       "    </tr>\n",
       "    <tr>\n",
       "      <th>...</th>\n",
       "      <td>...</td>\n",
       "      <td>...</td>\n",
       "      <td>...</td>\n",
       "      <td>...</td>\n",
       "      <td>...</td>\n",
       "      <td>...</td>\n",
       "      <td>...</td>\n",
       "      <td>...</td>\n",
       "      <td>...</td>\n",
       "      <td>...</td>\n",
       "    </tr>\n",
       "    <tr>\n",
       "      <th>9</th>\n",
       "      <td>Kwenadi</td>\n",
       "      <td>2023-04-03 18:27:59+00:00</td>\n",
       "      <td>0 days 00:46:30</td>\n",
       "      <td>NaN</td>\n",
       "      <td>Breaking Bad: Season 4: Bug (Episode 9)</td>\n",
       "      <td>NaN</td>\n",
       "      <td>Android DefaultWidevineL3Phone Android Phone</td>\n",
       "      <td>00:46:32</td>\n",
       "      <td>00:46:32</td>\n",
       "      <td>ZA (South Africa)</td>\n",
       "    </tr>\n",
       "    <tr>\n",
       "      <th>8</th>\n",
       "      <td>Kwenadi</td>\n",
       "      <td>2023-04-03 19:14:31+00:00</td>\n",
       "      <td>0 days 00:46:32</td>\n",
       "      <td>NaN</td>\n",
       "      <td>Breaking Bad: Season 4: Salud (Episode 10)</td>\n",
       "      <td>NaN</td>\n",
       "      <td>Android DefaultWidevineL3Phone Android Phone</td>\n",
       "      <td>00:46:32</td>\n",
       "      <td>00:46:32</td>\n",
       "      <td>ZA (South Africa)</td>\n",
       "    </tr>\n",
       "    <tr>\n",
       "      <th>7</th>\n",
       "      <td>Kwenadi</td>\n",
       "      <td>2023-04-03 20:01:04+00:00</td>\n",
       "      <td>0 days 00:01:59</td>\n",
       "      <td>NaN</td>\n",
       "      <td>Breaking Bad: Season 4: Crawl Space (Episode 11)</td>\n",
       "      <td>NaN</td>\n",
       "      <td>Android DefaultWidevineL3Phone Android Phone</td>\n",
       "      <td>00:02:02</td>\n",
       "      <td>00:02:02</td>\n",
       "      <td>ZA (South Africa)</td>\n",
       "    </tr>\n",
       "    <tr>\n",
       "      <th>6</th>\n",
       "      <td>Kwenadi</td>\n",
       "      <td>2023-04-05 14:47:17+00:00</td>\n",
       "      <td>0 days 00:00:05</td>\n",
       "      <td>NaN</td>\n",
       "      <td>Trailer: Dave Chappelle: The Closer</td>\n",
       "      <td>TRAILER</td>\n",
       "      <td>Android DefaultWidevineL3Phone Android Phone</td>\n",
       "      <td>00:00:00</td>\n",
       "      <td>00:00:00</td>\n",
       "      <td>ZA (South Africa)</td>\n",
       "    </tr>\n",
       "    <tr>\n",
       "      <th>5</th>\n",
       "      <td>Kwenadi</td>\n",
       "      <td>2023-04-05 14:47:32+00:00</td>\n",
       "      <td>0 days 00:45:46</td>\n",
       "      <td>NaN</td>\n",
       "      <td>Dave Chappelle: The Closer</td>\n",
       "      <td>NaN</td>\n",
       "      <td>Android DefaultWidevineL3Phone Android Phone</td>\n",
       "      <td>00:56:56</td>\n",
       "      <td>00:56:56</td>\n",
       "      <td>ZA (South Africa)</td>\n",
       "    </tr>\n",
       "  </tbody>\n",
       "</table>\n",
       "<p>440 rows × 10 columns</p>\n",
       "</div>"
      ],
      "text/plain": [
       "    Profile Name                Start Time        Duration  \\\n",
       "437      Kwenadi 2022-05-07 16:52:38+00:00 0 days 00:00:11   \n",
       "436      Kwenadi 2022-05-07 16:55:26+00:00 0 days 01:08:43   \n",
       "435      Kwenadi 2022-05-07 18:05:10+00:00 0 days 01:03:54   \n",
       "434      Kwenadi 2022-05-07 19:11:16+00:00 0 days 01:04:57   \n",
       "433      Kwenadi 2022-05-07 20:22:46+00:00 0 days 01:25:42   \n",
       "..           ...                       ...             ...   \n",
       "9        Kwenadi 2023-04-03 18:27:59+00:00 0 days 00:46:30   \n",
       "8        Kwenadi 2023-04-03 19:14:31+00:00 0 days 00:46:32   \n",
       "7        Kwenadi 2023-04-03 20:01:04+00:00 0 days 00:01:59   \n",
       "6        Kwenadi 2023-04-05 14:47:17+00:00 0 days 00:00:05   \n",
       "5        Kwenadi 2023-04-05 14:47:32+00:00 0 days 00:45:46   \n",
       "\n",
       "                          Attributes  \\\n",
       "437  Autoplayed: user action: None;    \n",
       "436                              NaN   \n",
       "435                              NaN   \n",
       "434                              NaN   \n",
       "433                              NaN   \n",
       "..                               ...   \n",
       "9                                NaN   \n",
       "8                                NaN   \n",
       "7                                NaN   \n",
       "6                                NaN   \n",
       "5                                NaN   \n",
       "\n",
       "                                                 Title  \\\n",
       "437                               Teaser: The Takedown   \n",
       "436                         Dave Chappelle: The Closer   \n",
       "435  Dave Chappelle: Collection: The Age of Spin: D...   \n",
       "434  Dave Chappelle: Collection: Deep in the Heart ...   \n",
       "433                                     The Babysitter   \n",
       "..                                                 ...   \n",
       "9              Breaking Bad: Season 4: Bug (Episode 9)   \n",
       "8           Breaking Bad: Season 4: Salud (Episode 10)   \n",
       "7     Breaking Bad: Season 4: Crawl Space (Episode 11)   \n",
       "6                  Trailer: Dave Chappelle: The Closer   \n",
       "5                           Dave Chappelle: The Closer   \n",
       "\n",
       "    Supplemental Video Type                                   Device Type  \\\n",
       "437          TEASER_TRAILER  Netflix Windows App - Cadmium Windows Mobile   \n",
       "436                     NaN  Netflix Windows App - Cadmium Windows Mobile   \n",
       "435                     NaN  Netflix Windows App - Cadmium Windows Mobile   \n",
       "434                     NaN  Netflix Windows App - Cadmium Windows Mobile   \n",
       "433                     NaN  Netflix Windows App - Cadmium Windows Mobile   \n",
       "..                      ...                                           ...   \n",
       "9                       NaN  Android DefaultWidevineL3Phone Android Phone   \n",
       "8                       NaN  Android DefaultWidevineL3Phone Android Phone   \n",
       "7                       NaN  Android DefaultWidevineL3Phone Android Phone   \n",
       "6                   TRAILER  Android DefaultWidevineL3Phone Android Phone   \n",
       "5                       NaN  Android DefaultWidevineL3Phone Android Phone   \n",
       "\n",
       "     Bookmark  Latest Bookmark            Country  \n",
       "437  00:00:11  Not latest view  ZA (South Africa)  \n",
       "436  01:10:08  Not latest view  ZA (South Africa)  \n",
       "435  01:05:24  Not latest view  ZA (South Africa)  \n",
       "434  01:04:57         01:04:57  ZA (South Africa)  \n",
       "433  01:25:43         01:25:43  ZA (South Africa)  \n",
       "..        ...              ...                ...  \n",
       "9    00:46:32         00:46:32  ZA (South Africa)  \n",
       "8    00:46:32         00:46:32  ZA (South Africa)  \n",
       "7    00:02:02         00:02:02  ZA (South Africa)  \n",
       "6    00:00:00         00:00:00  ZA (South Africa)  \n",
       "5    00:56:56         00:56:56  ZA (South Africa)  \n",
       "\n",
       "[440 rows x 10 columns]"
      ]
     },
     "execution_count": 11,
     "metadata": {},
     "output_type": "execute_result"
    }
   ],
   "source": [
    "df.sort_values('Start Time')"
   ]
  },
  {
   "cell_type": "markdown",
   "id": "dbdf7a49-f8ab-4785-934f-542723897098",
   "metadata": {},
   "source": [
    "#### Summarizing the viewing duration for each profile"
   ]
  },
  {
   "cell_type": "code",
   "execution_count": 12,
   "id": "6a98a401-c463-4b8d-bab8-922d72a02c7f",
   "metadata": {},
   "outputs": [
    {
     "data": {
      "text/plain": [
       "Timedelta('7 days 18:04:07')"
      ]
     },
     "execution_count": 12,
     "metadata": {},
     "output_type": "execute_result"
    }
   ],
   "source": [
    "df.loc[df['Profile Name']=='Kwenadi','Duration'].sum()"
   ]
  },
  {
   "cell_type": "code",
   "execution_count": 13,
   "id": "c75da10a-9191-4933-ae7a-716eef3d31ae",
   "metadata": {},
   "outputs": [
    {
     "data": {
      "text/plain": [
       "Timedelta('0 days 00:02:14')"
      ]
     },
     "execution_count": 13,
     "metadata": {},
     "output_type": "execute_result"
    }
   ],
   "source": [
    "df.loc[df['Profile Name']=='Kgabo','Duration'].sum()"
   ]
  },
  {
   "cell_type": "code",
   "execution_count": 14,
   "id": "222167fc-80a5-4c9b-8046-ad45dbe2a32e",
   "metadata": {},
   "outputs": [
    {
     "data": {
      "text/plain": [
       "Timedelta('0 days 00:00:00')"
      ]
     },
     "execution_count": 14,
     "metadata": {},
     "output_type": "execute_result"
    }
   ],
   "source": [
    "df.loc[df['Profile Name']=='Mma','Duration'].sum()"
   ]
  },
  {
   "cell_type": "code",
   "execution_count": 15,
   "id": "c88a548c-337c-4248-8470-e494ca0aeff8",
   "metadata": {},
   "outputs": [
    {
     "data": {
      "text/plain": [
       "Timedelta('0 days 00:00:16')"
      ]
     },
     "execution_count": 15,
     "metadata": {},
     "output_type": "execute_result"
    }
   ],
   "source": [
    "df.loc[df['Profile Name']=='Kids','Duration'].sum()"
   ]
  },
  {
   "cell_type": "code",
   "execution_count": 16,
   "id": "e7e27362-121e-42a9-ae15-e7864879ed9a",
   "metadata": {},
   "outputs": [
    {
     "data": {
      "text/plain": [
       "669847.0"
      ]
     },
     "execution_count": 16,
     "metadata": {},
     "output_type": "execute_result"
    }
   ],
   "source": [
    "df.loc[df['Profile Name']=='Kwenadi','Duration'].astype('timedelta64[s]').sum()"
   ]
  },
  {
   "cell_type": "markdown",
   "id": "40aa77bb-8a8b-40c2-9a71-937be72eb1ea",
   "metadata": {},
   "source": [
    "#### create a helper dict viewTime to store the overall view time per Profile in seconds"
   ]
  },
  {
   "cell_type": "code",
   "execution_count": 17,
   "id": "1a148fc4-4221-44c5-a71d-a625cf174d15",
   "metadata": {},
   "outputs": [
    {
     "data": {
      "text/plain": [
       "{'Kwenadi': 669847.0, 'Kgabo': 134.0, 'Kids': 16.0, 'Mma': 0.0}"
      ]
     },
     "execution_count": 17,
     "metadata": {},
     "output_type": "execute_result"
    }
   ],
   "source": [
    "viewTime = {}\n",
    "viewTime.update({\"Kwenadi\": df.loc[df['Profile Name']=='Kwenadi','Duration'].astype('timedelta64[s]').sum()})\n",
    "viewTime.update({\"Kgabo\": df.loc[df['Profile Name']=='Kgabo','Duration'].astype('timedelta64[s]').sum()})\n",
    "viewTime.update({\"Kids\": df.loc[df['Profile Name']=='Kids','Duration'].astype('timedelta64[s]').sum()})\n",
    "viewTime.update({\"Mma\": df.loc[df['Profile Name']=='Mma','Duration'].astype('timedelta64[s]').sum()})\n",
    "viewTime"
   ]
  },
  {
   "cell_type": "markdown",
   "id": "fc6cba8d-8f91-440b-b67d-d7de4a06a067",
   "metadata": {},
   "source": [
    "##### Plot it and have a look at the chart"
   ]
  },
  {
   "cell_type": "code",
   "execution_count": 18,
   "id": "84dbafde-c5b5-4ef9-bedf-d2cb363459b5",
   "metadata": {},
   "outputs": [
    {
     "data": {
      "image/png": "[encoded data removed]",
      "text/plain": [
       "<Figure size 640x480 with 1 Axes>"
      ]
     },
     "metadata": {},
     "output_type": "display_data"
    }
   ],
   "source": [
    "%matplotlib inline\n",
    "import matplotlib\n",
    "import matplotlib.pyplot as plt\n",
    "plt.bar(*zip(*viewTime.items()))\n",
    "plt.show()"
   ]
  },
  {
   "cell_type": "markdown",
   "id": "4796c311-63c2-4f16-beab-51c67bef75fc",
   "metadata": {},
   "source": [
    "##### 3. What is the average watching time (per Profile)?"
   ]
  },
  {
   "cell_type": "code",
   "execution_count": 19,
   "id": "324c2903-feb1-48fc-8bf3-05243d1924be",
   "metadata": {},
   "outputs": [
    {
     "data": {
      "text/plain": [
       "Kwenadi    433\n",
       "Kgabo        4\n",
       "Mma          2\n",
       "Kids         1\n",
       "Name: Profile Name, dtype: int64"
      ]
     },
     "execution_count": 19,
     "metadata": {},
     "output_type": "execute_result"
    }
   ],
   "source": [
    "df['Profile Name'].value_counts()"
   ]
  },
  {
   "cell_type": "code",
   "execution_count": 20,
   "id": "d925101e-c1c0-4b3c-b2dd-c31a6ccebc90",
   "metadata": {},
   "outputs": [
    {
     "data": {
      "text/plain": [
       "Timedelta('0 days 00:25:46.990762124')"
      ]
     },
     "execution_count": 20,
     "metadata": {},
     "output_type": "execute_result"
    }
   ],
   "source": [
    "df.loc[df['Profile Name']=='Kwenadi','Duration'].sum()/433"
   ]
  },
  {
   "cell_type": "code",
   "execution_count": 21,
   "id": "1263b5a7-95e7-4275-8be9-510dac67108a",
   "metadata": {},
   "outputs": [
    {
     "data": {
      "text/plain": [
       "Timedelta('0 days 00:00:04')"
      ]
     },
     "execution_count": 21,
     "metadata": {},
     "output_type": "execute_result"
    }
   ],
   "source": [
    "df.loc[df['Profile Name']=='Kids','Duration'].sum()/4"
   ]
  },
  {
   "cell_type": "code",
   "execution_count": 22,
   "id": "86629373-6a7c-472c-b03a-b8467f96d12e",
   "metadata": {},
   "outputs": [
    {
     "data": {
      "text/plain": [
       "Timedelta('0 days 00:01:07')"
      ]
     },
     "execution_count": 22,
     "metadata": {},
     "output_type": "execute_result"
    }
   ],
   "source": [
    "df.loc[df['Profile Name']=='Kgabo','Duration'].sum()/2"
   ]
  },
  {
   "cell_type": "code",
   "execution_count": 23,
   "id": "b439d08e-b529-450e-b2f3-afd0edcdcadf",
   "metadata": {},
   "outputs": [
    {
     "data": {
      "text/plain": [
       "Timedelta('0 days 00:00:00')"
      ]
     },
     "execution_count": 23,
     "metadata": {},
     "output_type": "execute_result"
    }
   ],
   "source": [
    "df.loc[df['Profile Name']=='Mma','Duration'].sum()/1"
   ]
  },
  {
   "cell_type": "markdown",
   "id": "86f1e315-8de5-4c1a-917e-50d6951ed888",
   "metadata": {},
   "source": [
    "##### Let's have a look at the values of column ‘Supplemental Video Type’"
   ]
  },
  {
   "cell_type": "code",
   "execution_count": 24,
   "id": "b30f9254-fbcd-4379-b024-c70b794d731b",
   "metadata": {},
   "outputs": [
    {
     "data": {
      "text/plain": [
       "HOOK              34\n",
       "TRAILER           12\n",
       "TEASER_TRAILER     8\n",
       "CINEMAGRAPH        2\n",
       "Name: Supplemental Video Type, dtype: int64"
      ]
     },
     "execution_count": 24,
     "metadata": {},
     "output_type": "execute_result"
    }
   ],
   "source": [
    "df['Supplemental Video Type'].value_counts()"
   ]
  },
  {
   "cell_type": "markdown",
   "id": "5652dc37-c968-43e2-a22e-308adb517c00",
   "metadata": {},
   "source": [
    "##### It seems we have overall 56 short interactions, that we want to filter out. The remaining 384 of the overall 440 rows are empty (NaN) and represent actual watched series & movies. So let’s only keep the rows with NaN in Supplement Video Type."
   ]
  },
  {
   "cell_type": "code",
   "execution_count": 25,
   "id": "3423bbc1-29dc-4752-9f06-096ab8acc8a7",
   "metadata": {},
   "outputs": [
    {
     "data": {
      "text/html": [
       "<div>\n",
       "<style scoped>\n",
       "    .dataframe tbody tr th:only-of-type {\n",
       "        vertical-align: middle;\n",
       "    }\n",
       "\n",
       "    .dataframe tbody tr th {\n",
       "        vertical-align: top;\n",
       "    }\n",
       "\n",
       "    .dataframe thead th {\n",
       "        text-align: right;\n",
       "    }\n",
       "</style>\n",
       "<table border=\"1\" class=\"dataframe\">\n",
       "  <thead>\n",
       "    <tr style=\"text-align: right;\">\n",
       "      <th></th>\n",
       "      <th>Profile Name</th>\n",
       "      <th>Start Time</th>\n",
       "      <th>Duration</th>\n",
       "      <th>Attributes</th>\n",
       "      <th>Title</th>\n",
       "      <th>Supplemental Video Type</th>\n",
       "      <th>Device Type</th>\n",
       "      <th>Bookmark</th>\n",
       "      <th>Latest Bookmark</th>\n",
       "      <th>Country</th>\n",
       "    </tr>\n",
       "  </thead>\n",
       "  <tbody>\n",
       "    <tr>\n",
       "      <th>0</th>\n",
       "      <td>Kgabo</td>\n",
       "      <td>2023-01-08 19:04:16+00:00</td>\n",
       "      <td>0 days 00:01:47</td>\n",
       "      <td>NaN</td>\n",
       "      <td>Norbit</td>\n",
       "      <td>NaN</td>\n",
       "      <td>Netflix Windows App - Cadmium Windows Mobile</td>\n",
       "      <td>00:01:47</td>\n",
       "      <td>00:01:47</td>\n",
       "      <td>ZA (South Africa)</td>\n",
       "    </tr>\n",
       "    <tr>\n",
       "      <th>4</th>\n",
       "      <td>Kids</td>\n",
       "      <td>2023-03-17 05:06:07+00:00</td>\n",
       "      <td>0 days 00:00:16</td>\n",
       "      <td>NaN</td>\n",
       "      <td>CoComelon: Season 7: It's Cody Time (Episode 1)</td>\n",
       "      <td>NaN</td>\n",
       "      <td>DefaultWidevineAndroidPhone</td>\n",
       "      <td>00:00:15</td>\n",
       "      <td>00:00:15</td>\n",
       "      <td>ZA (South Africa)</td>\n",
       "    </tr>\n",
       "    <tr>\n",
       "      <th>5</th>\n",
       "      <td>Kwenadi</td>\n",
       "      <td>2023-04-05 14:47:32+00:00</td>\n",
       "      <td>0 days 00:45:46</td>\n",
       "      <td>NaN</td>\n",
       "      <td>Dave Chappelle: The Closer</td>\n",
       "      <td>NaN</td>\n",
       "      <td>Android DefaultWidevineL3Phone Android Phone</td>\n",
       "      <td>00:56:56</td>\n",
       "      <td>00:56:56</td>\n",
       "      <td>ZA (South Africa)</td>\n",
       "    </tr>\n",
       "    <tr>\n",
       "      <th>7</th>\n",
       "      <td>Kwenadi</td>\n",
       "      <td>2023-04-03 20:01:04+00:00</td>\n",
       "      <td>0 days 00:01:59</td>\n",
       "      <td>NaN</td>\n",
       "      <td>Breaking Bad: Season 4: Crawl Space (Episode 11)</td>\n",
       "      <td>NaN</td>\n",
       "      <td>Android DefaultWidevineL3Phone Android Phone</td>\n",
       "      <td>00:02:02</td>\n",
       "      <td>00:02:02</td>\n",
       "      <td>ZA (South Africa)</td>\n",
       "    </tr>\n",
       "    <tr>\n",
       "      <th>8</th>\n",
       "      <td>Kwenadi</td>\n",
       "      <td>2023-04-03 19:14:31+00:00</td>\n",
       "      <td>0 days 00:46:32</td>\n",
       "      <td>NaN</td>\n",
       "      <td>Breaking Bad: Season 4: Salud (Episode 10)</td>\n",
       "      <td>NaN</td>\n",
       "      <td>Android DefaultWidevineL3Phone Android Phone</td>\n",
       "      <td>00:46:32</td>\n",
       "      <td>00:46:32</td>\n",
       "      <td>ZA (South Africa)</td>\n",
       "    </tr>\n",
       "    <tr>\n",
       "      <th>...</th>\n",
       "      <td>...</td>\n",
       "      <td>...</td>\n",
       "      <td>...</td>\n",
       "      <td>...</td>\n",
       "      <td>...</td>\n",
       "      <td>...</td>\n",
       "      <td>...</td>\n",
       "      <td>...</td>\n",
       "      <td>...</td>\n",
       "      <td>...</td>\n",
       "    </tr>\n",
       "    <tr>\n",
       "      <th>434</th>\n",
       "      <td>Kwenadi</td>\n",
       "      <td>2022-05-07 19:11:16+00:00</td>\n",
       "      <td>0 days 01:04:57</td>\n",
       "      <td>NaN</td>\n",
       "      <td>Dave Chappelle: Collection: Deep in the Heart ...</td>\n",
       "      <td>NaN</td>\n",
       "      <td>Netflix Windows App - Cadmium Windows Mobile</td>\n",
       "      <td>01:04:57</td>\n",
       "      <td>01:04:57</td>\n",
       "      <td>ZA (South Africa)</td>\n",
       "    </tr>\n",
       "    <tr>\n",
       "      <th>435</th>\n",
       "      <td>Kwenadi</td>\n",
       "      <td>2022-05-07 18:05:10+00:00</td>\n",
       "      <td>0 days 01:03:54</td>\n",
       "      <td>NaN</td>\n",
       "      <td>Dave Chappelle: Collection: The Age of Spin: D...</td>\n",
       "      <td>NaN</td>\n",
       "      <td>Netflix Windows App - Cadmium Windows Mobile</td>\n",
       "      <td>01:05:24</td>\n",
       "      <td>Not latest view</td>\n",
       "      <td>ZA (South Africa)</td>\n",
       "    </tr>\n",
       "    <tr>\n",
       "      <th>436</th>\n",
       "      <td>Kwenadi</td>\n",
       "      <td>2022-05-07 16:55:26+00:00</td>\n",
       "      <td>0 days 01:08:43</td>\n",
       "      <td>NaN</td>\n",
       "      <td>Dave Chappelle: The Closer</td>\n",
       "      <td>NaN</td>\n",
       "      <td>Netflix Windows App - Cadmium Windows Mobile</td>\n",
       "      <td>01:10:08</td>\n",
       "      <td>Not latest view</td>\n",
       "      <td>ZA (South Africa)</td>\n",
       "    </tr>\n",
       "    <tr>\n",
       "      <th>438</th>\n",
       "      <td>Mma</td>\n",
       "      <td>2023-01-18 21:58:13+00:00</td>\n",
       "      <td>0 days 00:27:41</td>\n",
       "      <td>NaN</td>\n",
       "      <td>Kings of Jo'Burg: Season 1: Vader (Father) (Ep...</td>\n",
       "      <td>NaN</td>\n",
       "      <td>DefaultWidevineAndroidPhone</td>\n",
       "      <td>00:27:56</td>\n",
       "      <td>00:27:56</td>\n",
       "      <td>ZA (South Africa)</td>\n",
       "    </tr>\n",
       "    <tr>\n",
       "      <th>439</th>\n",
       "      <td>Mma</td>\n",
       "      <td>2023-01-18 21:53:19+00:00</td>\n",
       "      <td>0 days 00:01:16</td>\n",
       "      <td>NaN</td>\n",
       "      <td>Fences</td>\n",
       "      <td>NaN</td>\n",
       "      <td>DefaultWidevineAndroidPhone</td>\n",
       "      <td>00:01:16</td>\n",
       "      <td>00:01:16</td>\n",
       "      <td>ZA (South Africa)</td>\n",
       "    </tr>\n",
       "  </tbody>\n",
       "</table>\n",
       "<p>384 rows × 10 columns</p>\n",
       "</div>"
      ],
      "text/plain": [
       "    Profile Name                Start Time        Duration Attributes  \\\n",
       "0          Kgabo 2023-01-08 19:04:16+00:00 0 days 00:01:47        NaN   \n",
       "4           Kids 2023-03-17 05:06:07+00:00 0 days 00:00:16        NaN   \n",
       "5        Kwenadi 2023-04-05 14:47:32+00:00 0 days 00:45:46        NaN   \n",
       "7        Kwenadi 2023-04-03 20:01:04+00:00 0 days 00:01:59        NaN   \n",
       "8        Kwenadi 2023-04-03 19:14:31+00:00 0 days 00:46:32        NaN   \n",
       "..           ...                       ...             ...        ...   \n",
       "434      Kwenadi 2022-05-07 19:11:16+00:00 0 days 01:04:57        NaN   \n",
       "435      Kwenadi 2022-05-07 18:05:10+00:00 0 days 01:03:54        NaN   \n",
       "436      Kwenadi 2022-05-07 16:55:26+00:00 0 days 01:08:43        NaN   \n",
       "438         Mma  2023-01-18 21:58:13+00:00 0 days 00:27:41        NaN   \n",
       "439         Mma  2023-01-18 21:53:19+00:00 0 days 00:01:16        NaN   \n",
       "\n",
       "                                                 Title  \\\n",
       "0                                               Norbit   \n",
       "4      CoComelon: Season 7: It's Cody Time (Episode 1)   \n",
       "5                           Dave Chappelle: The Closer   \n",
       "7     Breaking Bad: Season 4: Crawl Space (Episode 11)   \n",
       "8           Breaking Bad: Season 4: Salud (Episode 10)   \n",
       "..                                                 ...   \n",
       "434  Dave Chappelle: Collection: Deep in the Heart ...   \n",
       "435  Dave Chappelle: Collection: The Age of Spin: D...   \n",
       "436                         Dave Chappelle: The Closer   \n",
       "438  Kings of Jo'Burg: Season 1: Vader (Father) (Ep...   \n",
       "439                                             Fences   \n",
       "\n",
       "    Supplemental Video Type                                   Device Type  \\\n",
       "0                       NaN  Netflix Windows App - Cadmium Windows Mobile   \n",
       "4                       NaN                   DefaultWidevineAndroidPhone   \n",
       "5                       NaN  Android DefaultWidevineL3Phone Android Phone   \n",
       "7                       NaN  Android DefaultWidevineL3Phone Android Phone   \n",
       "8                       NaN  Android DefaultWidevineL3Phone Android Phone   \n",
       "..                      ...                                           ...   \n",
       "434                     NaN  Netflix Windows App - Cadmium Windows Mobile   \n",
       "435                     NaN  Netflix Windows App - Cadmium Windows Mobile   \n",
       "436                     NaN  Netflix Windows App - Cadmium Windows Mobile   \n",
       "438                     NaN                   DefaultWidevineAndroidPhone   \n",
       "439                     NaN                   DefaultWidevineAndroidPhone   \n",
       "\n",
       "     Bookmark  Latest Bookmark            Country  \n",
       "0    00:01:47         00:01:47  ZA (South Africa)  \n",
       "4    00:00:15         00:00:15  ZA (South Africa)  \n",
       "5    00:56:56         00:56:56  ZA (South Africa)  \n",
       "7    00:02:02         00:02:02  ZA (South Africa)  \n",
       "8    00:46:32         00:46:32  ZA (South Africa)  \n",
       "..        ...              ...                ...  \n",
       "434  01:04:57         01:04:57  ZA (South Africa)  \n",
       "435  01:05:24  Not latest view  ZA (South Africa)  \n",
       "436  01:10:08  Not latest view  ZA (South Africa)  \n",
       "438  00:27:56         00:27:56  ZA (South Africa)  \n",
       "439  00:01:16         00:01:16  ZA (South Africa)  \n",
       "\n",
       "[384 rows x 10 columns]"
      ]
     },
     "execution_count": 25,
     "metadata": {},
     "output_type": "execute_result"
    }
   ],
   "source": [
    "df.loc[df['Supplemental Video Type'].isnull()]"
   ]
  },
  {
   "cell_type": "markdown",
   "id": "f86d1943-2638-4ff8-af21-f9f88e5a5a32",
   "metadata": {},
   "source": [
    "##### And check the numbers again. First, we take a look at the value counts again…"
   ]
  },
  {
   "cell_type": "code",
   "execution_count": 26,
   "id": "0861b64e-3935-4733-8b14-36ca80a8566b",
   "metadata": {},
   "outputs": [
    {
     "data": {
      "text/plain": [
       "Kwenadi    433\n",
       "Kgabo        4\n",
       "Mma          2\n",
       "Kids         1\n",
       "Name: Profile Name, dtype: int64"
      ]
     },
     "execution_count": 26,
     "metadata": {},
     "output_type": "execute_result"
    }
   ],
   "source": [
    "df['Profile Name'].value_counts()"
   ]
  },
  {
   "cell_type": "code",
   "execution_count": 27,
   "id": "657c4300-d101-49ff-bcf3-07a122c708cf",
   "metadata": {},
   "outputs": [
    {
     "data": {
      "text/plain": [
       "Timedelta('0 days 00:25:46.990762124')"
      ]
     },
     "execution_count": 27,
     "metadata": {},
     "output_type": "execute_result"
    }
   ],
   "source": [
    "df.loc[df['Profile Name']=='Kwenadi','Duration'].sum()/433"
   ]
  },
  {
   "cell_type": "code",
   "execution_count": 28,
   "id": "a75f0e3e-5379-47c4-bb55-09170f3ca10c",
   "metadata": {},
   "outputs": [
    {
     "data": {
      "text/plain": [
       "Timedelta('0 days 00:00:16')"
      ]
     },
     "execution_count": 28,
     "metadata": {},
     "output_type": "execute_result"
    }
   ],
   "source": [
    "df.loc[df['Profile Name']=='Kids','Duration'].sum()/1"
   ]
  },
  {
   "cell_type": "code",
   "execution_count": 29,
   "id": "7477c6ee-5e95-4e4e-a48a-2fbb87fc3a74",
   "metadata": {},
   "outputs": [
    {
     "data": {
      "text/plain": [
       "Timedelta('0 days 00:00:33.500000')"
      ]
     },
     "execution_count": 29,
     "metadata": {},
     "output_type": "execute_result"
    }
   ],
   "source": [
    "df.loc[df['Profile Name']=='Kgabo','Duration'].sum()/4"
   ]
  },
  {
   "cell_type": "code",
   "execution_count": 30,
   "id": "29f83014-5b96-465a-b595-4993adebafc5",
   "metadata": {},
   "outputs": [
    {
     "data": {
      "text/plain": [
       "Timedelta('0 days 00:00:00')"
      ]
     },
     "execution_count": 30,
     "metadata": {},
     "output_type": "execute_result"
    }
   ],
   "source": [
    "df.loc[df['Profile Name']=='Mma','Duration'].sum()/2"
   ]
  },
  {
   "cell_type": "markdown",
   "id": "6eb877f2-da4a-49e9-ab81-ebd1e4940dc2",
   "metadata": {},
   "source": [
    "##### 4.What devices are used by which Profile? And which device is used the most?"
   ]
  },
  {
   "cell_type": "code",
   "execution_count": 32,
   "id": "795407c5-420d-4006-894e-ac412e5c8959",
   "metadata": {},
   "outputs": [
    {
     "data": {
      "text/plain": [
       "Android DefaultWidevineL3Phone Android Phone    244\n",
       "Netflix Windows App - Cadmium Windows Mobile    169\n",
       "Chrome PC (Cadmium)                              24\n",
       "DefaultWidevineAndroidPhone                       3\n",
       "Name: Device Type, dtype: int64"
      ]
     },
     "execution_count": 32,
     "metadata": {},
     "output_type": "execute_result"
    }
   ],
   "source": [
    "df['Device Type'].value_counts()"
   ]
  },
  {
   "cell_type": "code",
   "execution_count": 33,
   "id": "952c2eaa-e170-43f0-a210-95791d44164a",
   "metadata": {},
   "outputs": [
    {
     "data": {
      "image/png": "[encoded data removed]",
      "text/plain": [
       "<Figure size 640x480 with 1 Axes>"
      ]
     },
     "metadata": {},
     "output_type": "display_data"
    }
   ],
   "source": [
    "df['Device Type'].value_counts().plot(kind='bar')\n",
    "plt.show()"
   ]
  },
  {
   "cell_type": "markdown",
   "id": "c87c9e30-02a7-4658-aaa3-95bbe4248a6b",
   "metadata": {},
   "source": [
    "##### I want to know more about my own devices, so let us filter them based on Profile ‘Kwenadi’"
   ]
  },
  {
   "cell_type": "code",
   "execution_count": 31,
   "id": "e2561de4-8b81-41f4-b770-5b1679b3c459",
   "metadata": {},
   "outputs": [],
   "source": [
    "df1=df.loc[df['Profile Name'] == 'Kwenadi']"
   ]
  },
  {
   "cell_type": "code",
   "execution_count": 33,
   "id": "370f5816-245d-4068-8b4a-32a25b7be182",
   "metadata": {},
   "outputs": [
    {
     "data": {
      "text/plain": [
       "Android DefaultWidevineL3Phone Android Phone    244\n",
       "Netflix Windows App - Cadmium Windows Mobile    165\n",
       "Chrome PC (Cadmium)                              24\n",
       "Name: Device Type, dtype: int64"
      ]
     },
     "execution_count": 33,
     "metadata": {},
     "output_type": "execute_result"
    }
   ],
   "source": [
    "df1['Device Type'].value_counts()"
   ]
  },
  {
   "cell_type": "markdown",
   "id": "f633f5c9-ad25-4bdc-89e5-c009e7d00281",
   "metadata": {},
   "source": [
    "##### I use myphone most to watch netflix"
   ]
  },
  {
   "cell_type": "markdown",
   "id": "8a748f64-1f1d-4867-b3e8-c968669ddd13",
   "metadata": {},
   "source": [
    "##### Alright, time for the last chart of the day to view my devices"
   ]
  },
  {
   "cell_type": "code",
   "execution_count": 34,
   "id": "f919b5d2-4834-40e7-99e9-45abb1ac5dbe",
   "metadata": {},
   "outputs": [
    {
     "data": {
      "image/png": "[encoded data removed]",
      "text/plain": [
       "<Figure size 640x480 with 1 Axes>"
      ]
     },
     "metadata": {},
     "output_type": "display_data"
    }
   ],
   "source": [
    "df1['Device Type'].value_counts().plot(kind='bar')\n",
    "plt.show()"
   ]
  },
  {
   "cell_type": "markdown",
   "id": "0393db9a-c3ce-44fa-95eb-934d9333fa00",
   "metadata": {},
   "source": [
    "##### What was my most popular/watched title?"
   ]
  },
  {
   "cell_type": "code",
   "execution_count": 39,
   "id": "a16bcdce-d87e-45cc-8a26-109ef40e40ee",
   "metadata": {},
   "outputs": [
    {
     "data": {
      "text/plain": [
       "array(['Norbit', 'Season 1 Genre Specific Moment Clip: Wednesday',\n",
       "       'Season 2 Genre Specific Moment Clip: Ginny & Georgia',\n",
       "       \"CoComelon: Season 7: It's Cody Time (Episode 1)\",\n",
       "       'Dave Chappelle: The Closer',\n",
       "       'Trailer: Dave Chappelle: The Closer',\n",
       "       'Breaking Bad: Season 4: Crawl Space (Episode 11)',\n",
       "       'Breaking Bad: Season 4: Salud (Episode 10)',\n",
       "       'Breaking Bad: Season 4: Bug (Episode 9)',\n",
       "       'Breaking Bad: Season 4: Hermanos (Episode 8)',\n",
       "       'Breaking Bad: Season 4: Problem Dog (Episode 7)',\n",
       "       'Breaking Bad: Season 4: Cornered (Episode 6)',\n",
       "       'Breaking Bad: Season 4: Shotgun (Episode 5)',\n",
       "       'Breaking Bad: Season 4: Bullet Points (Episode 4)',\n",
       "       'Breaking Bad: Season 4: Open House (Episode 3)',\n",
       "       'Breaking Bad: Season 4: Thirty-Eight Snub (Episode 2)',\n",
       "       'Breaking Bad: Season 4: Box Cutter (Episode 1)',\n",
       "       'Breaking Bad: Season 5: Gliding Over All (Episode 8)',\n",
       "       'Breaking Bad: Season 5: Say My Name (Episode 7)',\n",
       "       'xXx: State of the Union_hook_primary_16x9',\n",
       "       'Breaking Bad: Season 5: Buyout (Episode 6)',\n",
       "       'You: Season 2: The Good, the Bad, & the Hendy (Episode 4)',\n",
       "       'You: Season 2: What Are Friends For? (Episode 3)',\n",
       "       'You: Season 2: Just the Tip (Episode 2)',\n",
       "       'You: Season 2: A Fresh Start (Episode 1)',\n",
       "       'Main Character Intro Clip: Kill Boksoon',\n",
       "       'Breaking Bad: Season 5: Dead Freight (Episode 5)',\n",
       "       'Breaking Bad: Season 5: Fifty-One (Episode 4)',\n",
       "       'Breaking Bad: Season 5: Hazard Pay (Episode 3)',\n",
       "       'Breaking Bad: Season 5: Madrigal (Episode 2)',\n",
       "       'Breaking Bad: Season 5: Live Free Or Die (Episode 1)',\n",
       "       'Breaking Bad: Season 4: Face Off (Episode 13)',\n",
       "       'Breaking Bad: Season 4: End Times (Episode 12)',\n",
       "       'Supporting Character Clip: Murder Mystery 2',\n",
       "       'Unsolved Mysteries: Volume 3: Body in the Bay (Episode 7)',\n",
       "       \"Emergency: NYC: Season 1: You're Not Alone (Episode 1)\",\n",
       "       'The Craigslist Killer',\n",
       "       'Breaking Bad: Season 3: Full Measure (Episode 13)',\n",
       "       'Breaking Bad: Season 3: Half Measures (Episode 12)',\n",
       "       'Breaking Bad: Season 3: Abiquiu (Episode 11)',\n",
       "       'Breaking Bad: Season 3: Fly (Episode 10)',\n",
       "       'Breaking Bad: Season 3: Kafkaesque (Episode 9)',\n",
       "       'Breaking Bad: Season 3: I See You (Episode 8)',\n",
       "       'Breaking Bad: Season 3: One Minute (Episode 7)',\n",
       "       'Breaking Bad: Season 3: Sunset (Episode 6)',\n",
       "       'Breaking Bad: Season 3: Mas (Episode 5)',\n",
       "       'Breaking Bad: Season 3: Green Light (Episode 4)',\n",
       "       'Breaking Bad: Season 3: I.F.T. (Episode 3)',\n",
       "       'Breaking Bad: Season 3: Caballo Sin Nombre (Episode 2)',\n",
       "       'Breaking Bad: Season 3: No Más (Episode 1)',\n",
       "       'Breaking Bad: Season 2: ABQ (Episode 13)',\n",
       "       'Breaking Bad: Season 2: Phoenix (Episode 12)',\n",
       "       'Breaking Bad: Season 2: Mandala (Episode 11)',\n",
       "       'Breaking Bad: Season 2: Over (Episode 10)',\n",
       "       'Breaking Bad: Season 2: 4 Days Out (Episode 9)',\n",
       "       'Breaking Bad: Season 2: Better Call Saul (Episode 8)',\n",
       "       'Breaking Bad: Season 2: Negro y Azul (Episode 7)',\n",
       "       'Breaking Bad: Season 2: Peekaboo (Episode 6)',\n",
       "       'Breaking Bad: Season 2: Breakage (Episode 5)',\n",
       "       'Breaking Bad: Season 2: Down (Episode 4)',\n",
       "       'Breaking Bad: Season 2: Bit by a Dead Bee (Episode 3)',\n",
       "       'Father Stu_hook_03_16x9',\n",
       "       'Breaking Bad: Season 2: Grilled (Episode 2)',\n",
       "       'Breaking Bad: Season 2: Seven Thirty-Seven (Episode 1)',\n",
       "       'Breaking Bad: Season 1: A No-Rough-Stuff-Type Deal (Episode 7)',\n",
       "       \"Breaking Bad: Season 1: Crazy Handful of Nothin' (Episode 6)\",\n",
       "       'Breaking Bad: Season 1: Gray Matter (Episode 5)',\n",
       "       'Breaking Bad: Season 1: Cancer Man (Episode 4)',\n",
       "       \"Breaking Bad: Season 1: And the Bag's in the River (Episode 3)\",\n",
       "       \"Breaking Bad: Season 1: The Cat's in the Bag (Episode 2)\",\n",
       "       'Breaking Bad: Season 1: Pilot (Episode 1)', 'Just Mercy',\n",
       "       'Young, Famous & African: Season 1: The Newcomer (Episode 2)',\n",
       "       'Young, Famous & African: Season 1: Welcome to South Africa (Episode 1)',\n",
       "       'Deliver Us from Evil', 'Season 1 Cliffhanger Clip: Dance 100',\n",
       "       'The Chalk Line', 'Lou', \"The Magician's Elephant\",\n",
       "       'Escape Room: Tournament Of Champions',\n",
       "       'The Real Bling Ring: Hollywood Heist: Limited Series: Fame, Fortune and Felony (Episode 2)',\n",
       "       'The Real Bling Ring: Hollywood Heist: Limited Series: The Fame Game (Episode 1)',\n",
       "       'Sensory Clip: Money Shot: The Pornhub Story', 'Choose or Die',\n",
       "       'The Woman in the Window', 'Fractured', 'The Good Nurse',\n",
       "       'Freaky_hook_05_16x9', 'Luther: The Fallen Sun', '#Alive',\n",
       "       \"You: Season 1: Bluebeard's Castle (Episode 10)\",\n",
       "       'You: Season 1: Candace (Episode 9)',\n",
       "       'You: Season 1: You Got Me, Babe (Episode 8)',\n",
       "       'You: Season 1: Everythingship (Episode 7)',\n",
       "       'You: Season 1: Amour Fou (Episode 6)',\n",
       "       'You: Season 1: Living with the Enemy (Episode 5)',\n",
       "       'You: Season 1: The Captain (Episode 4)',\n",
       "       'You: Season 1: Maybe (Episode 3)',\n",
       "       'You: Season 1: The Last Nice Guy in New York (Episode 2)',\n",
       "       'You: Season 1: Pilot (Episode 1)', 'Season 4 Part 1 Trailer: You',\n",
       "       'Teaser: Chris Rock: Selective Outrage',\n",
       "       'Secrets in the Hot Spring', 'The Mitchells vs. The Machines',\n",
       "       'Synchronic', 'The Willoughbys',\n",
       "       'Diagnosis: Season 1: Second Opinions (Episode 2)', 'Sightless',\n",
       "       'The Guilty', 'Diagnosis: Season 1: Detective Work (Episode 1)',\n",
       "       'Re/Member', 'Cargo', 'End Game', 'Dead Silence_hook_01_16x9',\n",
       "       'Guillermo del Toro’s Pinocchio', 'Corpse Bride', 'Hypnotic',\n",
       "       'Svaha: The Sixth Finger', 'The House', 'Kuntilanak (Trailer)',\n",
       "       'Plot Clip: The House', 'The Bridge Curse', 'The Crooked Man',\n",
       "       'Wendell & Wild',\n",
       "       'Eurovision Song Contest: The Story of Fire Saga',\n",
       "       'Season 1 Teaser: My Dad the Bounty Hunter', 'The Whole Truth',\n",
       "       'Don’t Listen', 'The Sea Beast', 'Season 1 Plot Clip: Red Rose',\n",
       "       'The Crooked Man_hook_03_16x9', 'Your Place or Mine', 'Eli',\n",
       "       'Trailer: Your Place or Mine',\n",
       "       'The Tax Collector_hook_primary_16x9', 'Season 4 Teaser 1: You',\n",
       "       'In the Tall Grass', 'The Turning', 'You People',\n",
       "       'Cliffhanger Clip 2: Stranger Things 4 Volume 2',\n",
       "       'Inciting Incident Clip: The Whole Truth', 'Things Heard & Seen',\n",
       "       'Things Heard & Seen - Baseline Clip 1',\n",
       "       'Cinemagraph: SpongeBob: Get Cooking',\n",
       "       'Stranger Things: Stranger Things 3: Chapter Two: The Mall Rats (Episode 2)',\n",
       "       'Stranger Things: Stranger Things 3: Chapter One: Suzie, Do You Copy? (Episode 1)',\n",
       "       '1899: Season 1: The Ship (Episode 1)', '1922',\n",
       "       'Stranger Things: Stranger Things 2: Chapter Nine: The Gate (Episode 9)',\n",
       "       'Stranger Things: Stranger Things 2: Chapter Eight: The Mind Flayer (Episode 8)',\n",
       "       'Stranger Things: Stranger Things 2: Chapter Seven: The Lost Sister (Episode 7)',\n",
       "       'Stranger Things: Stranger Things 2: Chapter Six: The Spy (Episode 6)',\n",
       "       'Cinemagraph: Hextech Mayhem: A League of Legends Story',\n",
       "       'Stranger Things: Stranger Things 2: Chapter Five: Dig Dug (Episode 5)',\n",
       "       'Stranger Things: Stranger Things 2: Chapter Four: Will the Wise (Episode 4)',\n",
       "       'Stranger Things: Stranger Things 2: Chapter Three: The Pollywog (Episode 3)',\n",
       "       'Stranger Things: Stranger Things 2: Chapter Two: Trick or Treat, Freak (Episode 2)',\n",
       "       'Stranger Things: Stranger Things 2: Chapter One: MADMAX (Episode 1)',\n",
       "       'Stranger Things: Season 1: Chapter Eight: The Upside Down (Episode 8)',\n",
       "       'Stranger Things: Season 1: Chapter Seven: The Bathtub (Episode 7)',\n",
       "       'Stranger Things: Season 1: Chapter Six: The Monster (Episode 6)',\n",
       "       'Stranger Things: Season 1: Chapter Five: The Flea and the Acrobat (Episode 5)',\n",
       "       'Stranger Things: Season 1: Chapter Four: The Body (Episode 4)',\n",
       "       'Stranger Things: Season 1: Chapter Three: Holly, Jolly (Episode 3)',\n",
       "       'Stranger Things: Season 1: Chapter Two: The Weirdo on Maple Street (Episode 2)',\n",
       "       'Stranger Things: Season 1: Chapter One: The Vanishing of Will Byers (Episode 1)',\n",
       "       'The Privilege', 'The Tinder Swindler',\n",
       "       'Marianne: Season 1: Your Dreams (Episode 1)', 'The Binding',\n",
       "       'Jack the Giant Slayer', 'The 8th Night',\n",
       "       'Dave Chappelle: What’s in a Name?',\n",
       "       'Dave Chappelle: Collection: The Age of Spin: Dave Chappelle Live at The Hollywood Palladium (Episode 1)',\n",
       "       'The Hatchet Wielding Hitchhiker', 'The Open House',\n",
       "       'The Pale Blue Eye', 'Mark of the Devil', 'The Maus',\n",
       "       \"Mr. Harrigan's Phone\", 'Troll', 'The Seventh Day',\n",
       "       'Girl on the Third Floor', 'Doctor Sleep',\n",
       "       \"Guillermo del Toro's Cabinet of Curiosities: Season 1: The Murmuring (Episode 8)\",\n",
       "       \"Guillermo del Toro's Cabinet of Curiosities: Season 1: The Viewing (Episode 7)\",\n",
       "       \"Guillermo del Toro's Cabinet of Curiosities: Season 1: Lot 36 (Episode 1)\",\n",
       "       \"Guillermo del Toro's Cabinet of Curiosities: Season 1: Dreams in the Witch House (Episode 6)\",\n",
       "       \"Guillermo del Toro's Cabinet of Curiosities: Season 1: Pickman's Model (Episode 5)\",\n",
       "       \"Guillermo del Toro's Cabinet of Curiosities: Season 1: The Outside (Episode 4)\",\n",
       "       \"Guillermo del Toro's Cabinet of Curiosities: Season 1: The Autopsy (Episode 3)\",\n",
       "       \"Guillermo del Toro's Cabinet of Curiosities: Season 1: Graveyard Rats (Episode 2)\",\n",
       "       'Old People', 'Slender Man', 'Slender Man_hook_primary_16x9',\n",
       "       'The Fog', 'Hellhole',\n",
       "       'Midnight Mass: Limited Series: Book I: Genesis (Episode 1)',\n",
       "       'Young Adult Clip: Midnight Mass',\n",
       "       'Tom Segura: Disgraceful_hook_06_16x9',\n",
       "       'Comedy Clip 3: Sheng Wang: Sweet and Juicy',\n",
       "       'Plot Clip: Glass Onion: A Knives out Mystery',\n",
       "       'Season 1 Trailer: Wednesday', 'The Possession of Hannah Grace',\n",
       "       'Season 3 Teaser: Emily in Paris',\n",
       "       'Season 2 Trailer: Alice in Borderland',\n",
       "       \"Season 1 Trailer: Guillermo del Toro's Cabinet of Curiosities\",\n",
       "       'Trevor Noah: I Wish You Would',\n",
       "       'You Should Have Left_hook_primary_16x9',\n",
       "       'Squid Game: Season 1: Red Light, Green Light (Episode 1)',\n",
       "       'Trailer_: Trevor Noah: I Wish You Would', 'The Invisible Man',\n",
       "       'The Unholy', 'Aftermath',\n",
       "       'Haunted: Latin America: Season 1: The House of the Damned (Episode 1)',\n",
       "       'Midnight Mass: Limited Series: Book VII: Revelation (Episode 7)',\n",
       "       'Midnight Mass: Limited Series: Book VI: Acts of the Apostles (Episode 6)',\n",
       "       'Midnight Mass: Limited Series: Book V: Gospel (Episode 5)',\n",
       "       'Midnight Mass: Limited Series: Book IV: Lamentations (Episode 4)',\n",
       "       'Midnight Mass: Limited Series: Book III: Proverbs (Episode 3)',\n",
       "       'Midnight Mass: Limited Series: Book II: Psalms (Episode 2)',\n",
       "       \"Don't Breathe 2\",\n",
       "       'The Haunting of Bly Manor: Season 1: The Jolly Corner (Episode 6)',\n",
       "       'The Haunting of Bly Manor: Season 1: The Altar of the Dead (Episode 5)',\n",
       "       'The Haunting of Bly Manor: Season 1: The Way It Came (Episode 4)',\n",
       "       'The Haunting of Bly Manor: Season 1: The Two Faces, Part One (Episode 3)',\n",
       "       'The Haunting of Bly Manor: Season 1: The Pupil (Episode 2)',\n",
       "       'The Haunting of Bly Manor: Season 1: The Great Good Place (Episode 1)',\n",
       "       'SpongeBob SquarePants: Season 9: Extreme Spots/Squirrel Record (Episode 1)',\n",
       "       'Dave Chappelle: Sticks & Stones',\n",
       "       'Haunted: Season 1: Stolen Gravestone (Episode 6)',\n",
       "       'Haunted: Season 1: Alien Infection (Episode 5)',\n",
       "       'Haunted: Season 1: Children of the Well (Episode 4)',\n",
       "       'Haunted: Season 1: Demon in the Dark (Episode 3)',\n",
       "       'Haunted: Season 1: The Slaughterhouse (Episode 2)',\n",
       "       'Haunted: Season 1: The Woman in White (Episode 1)',\n",
       "       'Michael Che: Shame the Devil',\n",
       "       'Comedy Clip 5: Michael Che: Shame the Devil',\n",
       "       'No One Gets Out Alive',\n",
       "       'Main Character Intro Clip: Stranger Things 4',\n",
       "       \"Kevin Hart: I'm a Grown Little Man\",\n",
       "       'Trevor Noah: Son of Patricia',\n",
       "       'Season 4 Clip: My Next Guest Needs No Introduction With David Letterman',\n",
       "       'Tuca & Bertie: Season 1: The Sex Bugs (Episode 4)',\n",
       "       'Tuca & Bertie: Season 1: The Deli Guy (Episode 3)',\n",
       "       'Tuca & Bertie: Season 1: The Promotion (Episode 2)',\n",
       "       'Tuca & Bertie: Season 1: The Sugar Bowl (Episode 1)',\n",
       "       'Comedy Clip 3: Katt Williams: World War III', 'Senior Year',\n",
       "       \"Chappelle's Home Team - Earthquake: Legendary\",\n",
       "       'Loyiso Gola: Unlearning',\n",
       "       \"Trailer: Chappelle's Home Team - Earthquake: Legendary\",\n",
       "       'Trailer: Our Father', 'Our Father',\n",
       "       'Dave Chappelle: The Kennedy Center Mark Twain Prize for American Humor',\n",
       "       'Def Comedy Jam 25',\n",
       "       'Dave Chappelle: Equanimity & The Bird Revelation: Collection: Dave Chappelle: The Bird Revelation (Episode 2)',\n",
       "       'Dave Chappelle: Equanimity & The Bird Revelation: Collection: Dave Chappelle: Equanimity (Episode 1)',\n",
       "       'Historical Roasts: Season 1: Abraham Lincoln (Episode 1)',\n",
       "       'Family Feud (South Africa): Season 2: Episode 14',\n",
       "       'Comedy Central Roast of Somizi', 'Kevin Hart: What Now?',\n",
       "       'Only Jokes Allowed: Season 1: Only Jokes Allowed : Mpho Popps (Episode 6)',\n",
       "       'Only Jokes Allowed: Season 1: Only Jokes Allowed : Celeste Ntuli (Episode 3)',\n",
       "       'Only Jokes Allowed: Season 1: Only Jokes Allowed : Schalk Bezuidenhout (Episode 1)',\n",
       "       'Only Jokes Allowed: Season 1: Only Jokes Allowed : Robby Collins (Episode 5)',\n",
       "       'Only Jokes Allowed: Season 1: Only Jokes Allowed : Nina Hastie (Episode 4)',\n",
       "       'Only Jokes Allowed: Season 1: Only Jokes Allowed : Gilli Apter (Episode 2)',\n",
       "       'Teaser: The Takedown', 'The Babysitter',\n",
       "       'Dave Chappelle: Collection: Deep in the Heart of Texas: Dave Chappelle Live at Austin City Limits (Episode 2)',\n",
       "       \"Kings of Jo'Burg: Season 1: Vader (Father) (Episode 1)\", 'Fences'],\n",
       "      dtype=object)"
      ]
     },
     "execution_count": 39,
     "metadata": {},
     "output_type": "execute_result"
    }
   ],
   "source": [
    "df['Title'].unique()"
   ]
  },
  {
   "cell_type": "code",
   "execution_count": 41,
   "id": "d96284b2-0bfb-4988-b904-91f62856d0ed",
   "metadata": {},
   "outputs": [
    {
     "data": {
      "text/plain": [
       "The Pale Blue Eye                                                                                          7\n",
       "Season 1 Genre Specific Moment Clip: Wednesday                                                             6\n",
       "Dave Chappelle: Collection: The Age of Spin: Dave Chappelle Live at The Hollywood Palladium (Episode 1)    6\n",
       "Guillermo del Toro's Cabinet of Curiosities: Season 1: Lot 36 (Episode 1)                                  5\n",
       "Breaking Bad: Season 4: Thirty-Eight Snub (Episode 2)                                                      5\n",
       "                                                                                                          ..\n",
       "Stranger Things: Stranger Things 2: Chapter Seven: The Lost Sister (Episode 7)                             1\n",
       "Cinemagraph: Hextech Mayhem: A League of Legends Story                                                     1\n",
       "Stranger Things: Stranger Things 2: Chapter Five: Dig Dug (Episode 5)                                      1\n",
       "Breaking Bad: Season 3: Mas (Episode 5)                                                                    1\n",
       "Fences                                                                                                     1\n",
       "Name: Title, Length: 273, dtype: int64"
      ]
     },
     "execution_count": 41,
     "metadata": {},
     "output_type": "execute_result"
    }
   ],
   "source": [
    "df['Title'].value_counts()"
   ]
  },
  {
   "cell_type": "code",
   "execution_count": null,
   "id": "e71400ed-08f4-4751-a307-3979654c6687",
   "metadata": {},
   "outputs": [],
   "source": []
  }
 ],
 "metadata": {
  "kernelspec": {
   "display_name": "Python 3 (ipykernel)",
   "language": "python",
   "name": "python3"
  },
  "language_info": {
   "codemirror_mode": {
    "name": "ipython",
    "version": 3
   },
   "file_extension": ".py",
   "mimetype": "text/x-python",
   "name": "python",
   "nbconvert_exporter": "python",
   "pygments_lexer": "ipython3",
   "version": "3.8.16"
  }
 },
 "nbformat": 4,
 "nbformat_minor": 5
}
